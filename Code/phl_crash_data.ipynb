{
 "cells": [
  {
   "cell_type": "code",
   "execution_count": 4,
   "metadata": {},
   "outputs": [],
   "source": [
    "import pandas as pd\n",
    "import requests\n",
    "import io\n",
    "import shapely\n",
    "import matplotlib.pyplot as plt\n",
    "import urllib\n",
    "import numpy as np\n",
    "import seaborn as sns\n",
    "\n",
    "import functions as fn"
   ]
  },
  {
   "cell_type": "markdown",
   "metadata": {},
   "source": [
    "## Data source \n",
    "https://www.opendataphilly.org/dataset/vehicular-crash-data/resource/d920c370-464c-4961-bdd0-1a071335750e\n",
    "## Metadata\n",
    "http://metadata.phila.gov/#home/datasetdetails/5543865420583086178c4eba/representationdetails/5c410c6431621f086214c7cd/?view_287_per_page=25&view_287_page=1"
   ]
  },
  {
   "cell_type": "code",
   "execution_count": 3,
   "metadata": {},
   "outputs": [],
   "source": [
    "url ='https://phl.carto.com/api/v2/sql?q=SELECT+*+FROM+crash_data_collision_crash_2007_2017&filename= \\\n",
    "        crash_data_collision_crash_2007_2017&format=csv&skipfields=cartodb_id,the_geom,the_geom_webmercator'\n",
    "s = requests.get(url).content"
   ]
  },
  {
   "cell_type": "code",
   "execution_count": 29,
   "metadata": {},
   "outputs": [],
   "source": [
    "# read the data into a pandas dataframe\n",
    "data=pd.read_csv(io.StringIO(s.decode('utf-8')))"
   ]
  },
  {
   "cell_type": "code",
   "execution_count": 37,
   "metadata": {},
   "outputs": [
    {
     "data": {
      "text/plain": [
       "(77462, 90)"
      ]
     },
     "execution_count": 37,
     "metadata": {},
     "output_type": "execute_result"
    }
   ],
   "source": [
    "data.shape"
   ]
  },
  {
   "cell_type": "code",
   "execution_count": 38,
   "metadata": {},
   "outputs": [
    {
     "data": {
      "text/html": [
       "<div>\n",
       "<style scoped>\n",
       "    .dataframe tbody tr th:only-of-type {\n",
       "        vertical-align: middle;\n",
       "    }\n",
       "\n",
       "    .dataframe tbody tr th {\n",
       "        vertical-align: top;\n",
       "    }\n",
       "\n",
       "    .dataframe thead th {\n",
       "        text-align: right;\n",
       "    }\n",
       "</style>\n",
       "<table border=\"1\" class=\"dataframe\">\n",
       "  <thead>\n",
       "    <tr style=\"text-align: right;\">\n",
       "      <th></th>\n",
       "      <th>wz_ln_closure</th>\n",
       "      <th>objectid_1</th>\n",
       "      <th>crn</th>\n",
       "      <th>district</th>\n",
       "      <th>county</th>\n",
       "      <th>municipality</th>\n",
       "      <th>crash_year</th>\n",
       "      <th>crash_month</th>\n",
       "      <th>day_of_week</th>\n",
       "      <th>time_of_day</th>\n",
       "      <th>...</th>\n",
       "      <th>bicycle_maj_inj_count</th>\n",
       "      <th>ped_count</th>\n",
       "      <th>ped_death_count</th>\n",
       "      <th>ped_maj_inj_count</th>\n",
       "      <th>max_severity_level</th>\n",
       "      <th>comm_veh_count</th>\n",
       "      <th>dec_lat</th>\n",
       "      <th>dec_long</th>\n",
       "      <th>rdwy_surf_type_cd</th>\n",
       "      <th>county_name</th>\n",
       "    </tr>\n",
       "  </thead>\n",
       "  <tbody>\n",
       "    <tr>\n",
       "      <td>0</td>\n",
       "      <td>None</td>\n",
       "      <td>9498</td>\n",
       "      <td>2016019772</td>\n",
       "      <td>6</td>\n",
       "      <td>67</td>\n",
       "      <td>67301</td>\n",
       "      <td>2016</td>\n",
       "      <td>2</td>\n",
       "      <td>2</td>\n",
       "      <td>1515</td>\n",
       "      <td>...</td>\n",
       "      <td>0</td>\n",
       "      <td>1</td>\n",
       "      <td>0</td>\n",
       "      <td>0</td>\n",
       "      <td>3</td>\n",
       "      <td>0</td>\n",
       "      <td>40.0628</td>\n",
       "      <td>-75.0577</td>\n",
       "      <td>None</td>\n",
       "      <td>None</td>\n",
       "    </tr>\n",
       "    <tr>\n",
       "      <td>1</td>\n",
       "      <td>None</td>\n",
       "      <td>9570</td>\n",
       "      <td>2016013724</td>\n",
       "      <td>6</td>\n",
       "      <td>67</td>\n",
       "      <td>67301</td>\n",
       "      <td>2016</td>\n",
       "      <td>1</td>\n",
       "      <td>3</td>\n",
       "      <td>1100</td>\n",
       "      <td>...</td>\n",
       "      <td>0</td>\n",
       "      <td>0</td>\n",
       "      <td>0</td>\n",
       "      <td>0</td>\n",
       "      <td>3</td>\n",
       "      <td>0</td>\n",
       "      <td>40.0822</td>\n",
       "      <td>-74.9669</td>\n",
       "      <td>None</td>\n",
       "      <td>None</td>\n",
       "    </tr>\n",
       "  </tbody>\n",
       "</table>\n",
       "<p>2 rows × 90 columns</p>\n",
       "</div>"
      ],
      "text/plain": [
       "  wz_ln_closure  objectid_1         crn  district  county  municipality  \\\n",
       "0          None        9498  2016019772         6      67         67301   \n",
       "1          None        9570  2016013724         6      67         67301   \n",
       "\n",
       "   crash_year  crash_month  day_of_week  time_of_day  ...  \\\n",
       "0        2016            2            2         1515  ...   \n",
       "1        2016            1            3         1100  ...   \n",
       "\n",
       "   bicycle_maj_inj_count  ped_count  ped_death_count  ped_maj_inj_count  \\\n",
       "0                      0          1                0                  0   \n",
       "1                      0          0                0                  0   \n",
       "\n",
       "   max_severity_level  comm_veh_count  dec_lat dec_long rdwy_surf_type_cd  \\\n",
       "0                   3               0  40.0628 -75.0577              None   \n",
       "1                   3               0  40.0822 -74.9669              None   \n",
       "\n",
       "   county_name  \n",
       "0         None  \n",
       "1         None  \n",
       "\n",
       "[2 rows x 90 columns]"
      ]
     },
     "execution_count": 38,
     "metadata": {},
     "output_type": "execute_result"
    }
   ],
   "source": [
    "data.head(2)"
   ]
  },
  {
   "cell_type": "code",
   "execution_count": null,
   "metadata": {},
   "outputs": [],
   "source": []
  },
  {
   "cell_type": "code",
   "execution_count": 40,
   "metadata": {},
   "outputs": [
    {
     "name": "stdout",
     "output_type": "stream",
     "text": [
      "['None' 'N' 'Y' 'U']\n",
      "['None' '1' '2' '8' '3']\n",
      "['None' '4' '2' '5' '8' '1' '3']\n",
      "['N' 'Y']\n",
      "['N' 'Y' 'None']\n",
      "['N' 'None' 'Y']\n",
      "['40 03:45.914' '40 04:55.794' '39 58:30.439' ... '40 00:07.660'\n",
      " '40 00:55.055' '39 52:55.210']\n",
      "['75 03:27.576' '74 58:00.797' '75 11:40.428' ... '75 10:04.065'\n",
      " '75 04:04.781' '75 14:43.780']\n",
      "['None' '50' '45' '55' '99' '90' '25' '35' '5' '20' '30' '40' '05' '15'\n",
      " '00' '10']\n",
      "['None' '2' '1' '4' '9' '3' '5' '6']\n",
      "['None' '3' '1' '2' '7' '4' '6' '5']\n",
      "['N' 'None' 'Y']\n",
      "['None' '0' '9' '4']\n",
      "['None' 'N' 'Y' 'U']\n",
      "['None' 'N' 'Y' 'U']\n",
      "['None' 'N' 'Y' 'U']\n",
      "['None' 'N' 'U' 'Y']\n",
      "['None' 'N' 'U' 'Y']\n",
      "['None' 'Y' 'N' 'U']\n",
      "['None' 'N' 'Y' 'U']\n",
      "['None' 'Y' 'N' 'U']\n",
      "['None' '2' '1' '9' '3']\n",
      "['None' 'Philadelphia' 'Montgomery' 'Bucks' 'Northumberland']\n"
     ]
    }
   ],
   "source": [
    "# print the unique values in each column containing object type\n",
    "for c in data.columns:\n",
    "    if data[str(c)].dtype == 'object':\n",
    "        print(data[str(c)].unique())"
   ]
  },
  {
   "cell_type": "code",
   "execution_count": 41,
   "metadata": {},
   "outputs": [],
   "source": [
    "# replace all the empty strings\n",
    "df = fn.replace_empty_strings(data, 'None')"
   ]
  },
  {
   "cell_type": "code",
   "execution_count": 42,
   "metadata": {},
   "outputs": [
    {
     "data": {
      "text/html": [
       "<div>\n",
       "<style scoped>\n",
       "    .dataframe tbody tr th:only-of-type {\n",
       "        vertical-align: middle;\n",
       "    }\n",
       "\n",
       "    .dataframe tbody tr th {\n",
       "        vertical-align: top;\n",
       "    }\n",
       "\n",
       "    .dataframe thead th {\n",
       "        text-align: right;\n",
       "    }\n",
       "</style>\n",
       "<table border=\"1\" class=\"dataframe\">\n",
       "  <thead>\n",
       "    <tr style=\"text-align: right;\">\n",
       "      <th></th>\n",
       "      <th>wz_ln_closure</th>\n",
       "      <th>objectid_1</th>\n",
       "      <th>crn</th>\n",
       "      <th>district</th>\n",
       "      <th>county</th>\n",
       "      <th>municipality</th>\n",
       "      <th>crash_year</th>\n",
       "      <th>crash_month</th>\n",
       "      <th>day_of_week</th>\n",
       "      <th>time_of_day</th>\n",
       "      <th>...</th>\n",
       "      <th>bicycle_maj_inj_count</th>\n",
       "      <th>ped_count</th>\n",
       "      <th>ped_death_count</th>\n",
       "      <th>ped_maj_inj_count</th>\n",
       "      <th>max_severity_level</th>\n",
       "      <th>comm_veh_count</th>\n",
       "      <th>dec_lat</th>\n",
       "      <th>dec_long</th>\n",
       "      <th>rdwy_surf_type_cd</th>\n",
       "      <th>county_name</th>\n",
       "    </tr>\n",
       "  </thead>\n",
       "  <tbody>\n",
       "    <tr>\n",
       "      <td>0</td>\n",
       "      <td>None</td>\n",
       "      <td>9498</td>\n",
       "      <td>2016019772</td>\n",
       "      <td>6</td>\n",
       "      <td>67</td>\n",
       "      <td>67301</td>\n",
       "      <td>2016</td>\n",
       "      <td>2</td>\n",
       "      <td>2</td>\n",
       "      <td>1515</td>\n",
       "      <td>...</td>\n",
       "      <td>0</td>\n",
       "      <td>1</td>\n",
       "      <td>0</td>\n",
       "      <td>0</td>\n",
       "      <td>3</td>\n",
       "      <td>0</td>\n",
       "      <td>40.0628</td>\n",
       "      <td>-75.0577</td>\n",
       "      <td>None</td>\n",
       "      <td>None</td>\n",
       "    </tr>\n",
       "    <tr>\n",
       "      <td>1</td>\n",
       "      <td>None</td>\n",
       "      <td>9570</td>\n",
       "      <td>2016013724</td>\n",
       "      <td>6</td>\n",
       "      <td>67</td>\n",
       "      <td>67301</td>\n",
       "      <td>2016</td>\n",
       "      <td>1</td>\n",
       "      <td>3</td>\n",
       "      <td>1100</td>\n",
       "      <td>...</td>\n",
       "      <td>0</td>\n",
       "      <td>0</td>\n",
       "      <td>0</td>\n",
       "      <td>0</td>\n",
       "      <td>3</td>\n",
       "      <td>0</td>\n",
       "      <td>40.0822</td>\n",
       "      <td>-74.9669</td>\n",
       "      <td>None</td>\n",
       "      <td>None</td>\n",
       "    </tr>\n",
       "  </tbody>\n",
       "</table>\n",
       "<p>2 rows × 90 columns</p>\n",
       "</div>"
      ],
      "text/plain": [
       "  wz_ln_closure  objectid_1         crn  district  county  municipality  \\\n",
       "0          None        9498  2016019772         6      67         67301   \n",
       "1          None        9570  2016013724         6      67         67301   \n",
       "\n",
       "   crash_year  crash_month  day_of_week  time_of_day  ...  \\\n",
       "0        2016            2            2         1515  ...   \n",
       "1        2016            1            3         1100  ...   \n",
       "\n",
       "   bicycle_maj_inj_count  ped_count  ped_death_count  ped_maj_inj_count  \\\n",
       "0                      0          1                0                  0   \n",
       "1                      0          0                0                  0   \n",
       "\n",
       "   max_severity_level  comm_veh_count  dec_lat dec_long rdwy_surf_type_cd  \\\n",
       "0                   3               0  40.0628 -75.0577              None   \n",
       "1                   3               0  40.0822 -74.9669              None   \n",
       "\n",
       "   county_name  \n",
       "0         None  \n",
       "1         None  \n",
       "\n",
       "[2 rows x 90 columns]"
      ]
     },
     "execution_count": 42,
     "metadata": {},
     "output_type": "execute_result"
    }
   ],
   "source": [
    "df.head(2)"
   ]
  },
  {
   "cell_type": "code",
   "execution_count": 43,
   "metadata": {},
   "outputs": [],
   "source": [
    "df.to_csv('../Data/raw_data.csv')"
   ]
  },
  {
   "cell_type": "code",
   "execution_count": null,
   "metadata": {},
   "outputs": [],
   "source": []
  },
  {
   "cell_type": "code",
   "execution_count": null,
   "metadata": {},
   "outputs": [],
   "source": []
  }
 ],
 "metadata": {
  "kernelspec": {
   "display_name": "Python 3",
   "language": "python",
   "name": "python3"
  },
  "language_info": {
   "codemirror_mode": {
    "name": "ipython",
    "version": 3
   },
   "file_extension": ".py",
   "mimetype": "text/x-python",
   "name": "python",
   "nbconvert_exporter": "python",
   "pygments_lexer": "ipython3",
   "version": "3.7.3"
  }
 },
 "nbformat": 4,
 "nbformat_minor": 4
}
